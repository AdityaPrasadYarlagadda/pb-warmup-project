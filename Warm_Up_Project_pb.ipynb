{
  "nbformat": 4,
  "nbformat_minor": 0,
  "metadata": {
    "colab": {
      "name": "Warm_Up_Project-pb.ipynb",
      "provenance": [],
      "collapsed_sections": []
    },
    "kernelspec": {
      "name": "python3",
      "display_name": "Python 3"
    },
    "language_info": {
      "name": "python"
    }
  },
  "cells": [
    {
      "cell_type": "markdown",
      "metadata": {
        "id": "UdSng4W0E3Xy"
      },
      "source": [
        "Installing the Spark Dependancies"
      ]
    },
    {
      "cell_type": "code",
      "metadata": {
        "id": "8ZioYLN4EIgt",
        "colab": {
          "base_uri": "https://localhost:8080/"
        },
        "outputId": "9090fa0d-d659-4fb7-d6c4-373dbba6f58f"
      },
      "source": [
        "!apt-get install openjdk-8-jdk-headless -qq > /dev/null\n",
        "!wget -q https://downloads.apache.org/spark/spark-3.0.3/spark-3.0.3-bin-hadoop3.2.tgz\n",
        "!tar xf spark-3.0.3-bin-hadoop3.2.tgz\n",
        "!pip install -q findspark\n",
        "!pip install pyspark==3.0.3"
      ],
      "execution_count": 1,
      "outputs": [
        {
          "output_type": "stream",
          "name": "stdout",
          "text": [
            "Collecting pyspark==3.0.3\n",
            "  Downloading pyspark-3.0.3.tar.gz (209.1 MB)\n",
            "\u001b[K     |████████████████████████████████| 209.1 MB 55 kB/s \n",
            "\u001b[?25hCollecting py4j==0.10.9\n",
            "  Downloading py4j-0.10.9-py2.py3-none-any.whl (198 kB)\n",
            "\u001b[K     |████████████████████████████████| 198 kB 18.9 MB/s \n",
            "\u001b[?25hBuilding wheels for collected packages: pyspark\n",
            "  Building wheel for pyspark (setup.py) ... \u001b[?25l\u001b[?25hdone\n",
            "  Created wheel for pyspark: filename=pyspark-3.0.3-py2.py3-none-any.whl size=209435970 sha256=1762cf359b4a80110b6a60c42c89c5f1890b73433e78d83b7fa301eb847d21f5\n",
            "  Stored in directory: /root/.cache/pip/wheels/7e/6d/0a/6b0bf301bc056d9af03194b732b9f49ad2fceb205aab2984fd\n",
            "Successfully built pyspark\n",
            "Installing collected packages: py4j, pyspark\n",
            "Successfully installed py4j-0.10.9 pyspark-3.0.3\n"
          ]
        }
      ]
    },
    {
      "cell_type": "code",
      "metadata": {
        "id": "glH6hqJzFA4P"
      },
      "source": [
        "import os\n",
        "os.environ[\"JAVA_HOME\"] = \"/usr/lib/jvm/java-8-openjdk-amd64\"\n",
        "os.environ[\"SPARK_HOME\"] = \"/content/spark-3.0.3-bin-hadoop3.2\""
      ],
      "execution_count": 2,
      "outputs": []
    },
    {
      "cell_type": "markdown",
      "metadata": {
        "id": "Bvewp8v8aS6A"
      },
      "source": [
        "Downloading data"
      ]
    },
    {
      "cell_type": "code",
      "metadata": {
        "id": "qadIjn_Z6Giz",
        "colab": {
          "base_uri": "https://localhost:8080/"
        },
        "outputId": "91f156e2-c499-4a64-9eec-3daed394234c"
      },
      "source": [
        "! wget https://raw.githubusercontent.com/nytimes/covid-19-data/master/us-counties.csv"
      ],
      "execution_count": 3,
      "outputs": [
        {
          "output_type": "stream",
          "name": "stdout",
          "text": [
            "--2021-12-01 23:08:28--  https://raw.githubusercontent.com/nytimes/covid-19-data/master/us-counties.csv\n",
            "Resolving raw.githubusercontent.com (raw.githubusercontent.com)... 185.199.108.133, 185.199.109.133, 185.199.110.133, ...\n",
            "Connecting to raw.githubusercontent.com (raw.githubusercontent.com)|185.199.108.133|:443... connected.\n",
            "HTTP request sent, awaiting response... 200 OK\n",
            "Length: 81872115 (78M) [text/plain]\n",
            "Saving to: ‘us-counties.csv’\n",
            "\n",
            "us-counties.csv     100%[===================>]  78.08M   187MB/s    in 0.4s    \n",
            "\n",
            "2021-12-01 23:08:29 (187 MB/s) - ‘us-counties.csv’ saved [81872115/81872115]\n",
            "\n"
          ]
        }
      ]
    },
    {
      "cell_type": "markdown",
      "metadata": {
        "id": "iOq5eADQhbyw"
      },
      "source": [
        "**Start your program**"
      ]
    },
    {
      "cell_type": "code",
      "metadata": {
        "id": "u6dZKZx1FAt1"
      },
      "source": [
        "import findspark\n",
        "findspark.init()\n",
        "from pyspark import SparkContext, SparkConf\n",
        "from pyspark.sql import SQLContext, SparkSession"
      ],
      "execution_count": 4,
      "outputs": []
    },
    {
      "cell_type": "markdown",
      "metadata": {
        "id": "6WY_BKuuE94M"
      },
      "source": [
        "Create a Spark Session"
      ]
    },
    {
      "cell_type": "code",
      "metadata": {
        "id": "oc1d5Df2FMJ5"
      },
      "source": [
        "conf = SparkConf().set('spark.ui.port', '4050')\n",
        "sc = SparkContext(conf=conf)\n",
        "spark = SparkSession.builder.master('local[*]').getOrCreate()"
      ],
      "execution_count": 5,
      "outputs": []
    },
    {
      "cell_type": "markdown",
      "metadata": {
        "id": "RMLGiIF0Z2wf"
      },
      "source": [
        "Read the dataset as a Dataframe"
      ]
    },
    {
      "cell_type": "code",
      "metadata": {
        "id": "C-_0QqoE48AL",
        "colab": {
          "base_uri": "https://localhost:8080/"
        },
        "outputId": "6ed3f2b6-b342-48d1-b2d2-8f712a79054c"
      },
      "source": [
        "# Load the dataset\n",
        "data = spark.read.load('/content/us-counties.csv', format='csv', inferSchema=True, header=True)\n",
        "\n",
        "# Print schema\n",
        "data.printSchema()"
      ],
      "execution_count": 6,
      "outputs": [
        {
          "output_type": "stream",
          "name": "stdout",
          "text": [
            "root\n",
            " |-- date: string (nullable = true)\n",
            " |-- county: string (nullable = true)\n",
            " |-- state: string (nullable = true)\n",
            " |-- fips: integer (nullable = true)\n",
            " |-- cases: integer (nullable = true)\n",
            " |-- deaths: integer (nullable = true)\n",
            "\n"
          ]
        }
      ]
    },
    {
      "cell_type": "code",
      "metadata": {
        "id": "K9fE-buM7rOl",
        "colab": {
          "base_uri": "https://localhost:8080/"
        },
        "outputId": "e09b689c-08cb-4a64-e2d2-989d0835320d"
      },
      "source": [
        "# See first 10 rows of the dataset\n",
        "data.head(10)"
      ],
      "execution_count": 7,
      "outputs": [
        {
          "output_type": "execute_result",
          "data": {
            "text/plain": [
              "[Row(date='2020-01-21', county='Snohomish', state='Washington', fips=53061, cases=1, deaths=0),\n",
              " Row(date='2020-01-22', county='Snohomish', state='Washington', fips=53061, cases=1, deaths=0),\n",
              " Row(date='2020-01-23', county='Snohomish', state='Washington', fips=53061, cases=1, deaths=0),\n",
              " Row(date='2020-01-24', county='Cook', state='Illinois', fips=17031, cases=1, deaths=0),\n",
              " Row(date='2020-01-24', county='Snohomish', state='Washington', fips=53061, cases=1, deaths=0),\n",
              " Row(date='2020-01-25', county='Orange', state='California', fips=6059, cases=1, deaths=0),\n",
              " Row(date='2020-01-25', county='Cook', state='Illinois', fips=17031, cases=1, deaths=0),\n",
              " Row(date='2020-01-25', county='Snohomish', state='Washington', fips=53061, cases=1, deaths=0),\n",
              " Row(date='2020-01-26', county='Maricopa', state='Arizona', fips=4013, cases=1, deaths=0),\n",
              " Row(date='2020-01-26', county='Los Angeles', state='California', fips=6037, cases=1, deaths=0)]"
            ]
          },
          "metadata": {},
          "execution_count": 7
        }
      ]
    },
    {
      "cell_type": "markdown",
      "metadata": {
        "id": "mZS23AZqZ81a"
      },
      "source": [
        "**Task 0. Find the daily new cases across the entire US and plot**\n",
        "(*you DO not need to do this, this code is given for your assistance*)"
      ]
    },
    {
      "cell_type": "code",
      "metadata": {
        "id": "pce2JYkU6dR1",
        "colab": {
          "base_uri": "https://localhost:8080/",
          "height": 605
        },
        "outputId": "926f2bfb-655f-498d-aa1c-2d6d510a698f"
      },
      "source": [
        "from pyspark.sql import functions as F\n",
        "\n",
        "# Aggregate by day, sum the cases for all counties for each day\n",
        "daily_cumulative = data.groupby('date').agg(F.sum('cases').alias('total_cases'))\n",
        "daily_cumulative = daily_cumulative.sort('date')\n",
        "daily_cumulative.show(10)\n",
        "\n",
        "# Convert Spark dataframe to a Panda dataframe to plot\n",
        "plot_data = daily_cumulative.toPandas()\n",
        "dates = plot_data['date']\n",
        "values = plot_data['total_cases']\n",
        "\n",
        "# Find daily news cases from cumulative cases\n",
        "daily_cases = [values[i+1] - values[i] for i in range(len(values)-1)]\n",
        "ddates = [dates[i+1] for i in range(len(values)-1)]\n",
        "\n",
        "import matplotlib.pyplot as plt\n",
        "import numpy as np\n",
        "plt.plot(ddates, daily_cases)\n",
        "plt.xlabel('Date')\n",
        "plt.ylabel('Daily new cases')\n",
        "plt.xticks(np.arange(1, len(daily_cases),30), [ddates[i] for i in np.arange(1, len(daily_cases),30)], rotation=90)\n",
        "plt.show()"
      ],
      "execution_count": 8,
      "outputs": [
        {
          "output_type": "stream",
          "name": "stdout",
          "text": [
            "+----------+-----------+\n",
            "|      date|total_cases|\n",
            "+----------+-----------+\n",
            "|2020-01-21|          1|\n",
            "|2020-01-22|          1|\n",
            "|2020-01-23|          1|\n",
            "|2020-01-24|          2|\n",
            "|2020-01-25|          3|\n",
            "|2020-01-26|          5|\n",
            "|2020-01-27|          5|\n",
            "|2020-01-28|          5|\n",
            "|2020-01-29|          5|\n",
            "|2020-01-30|          6|\n",
            "+----------+-----------+\n",
            "only showing top 10 rows\n",
            "\n"
          ]
        },
        {
          "output_type": "display_data",
          "data": {
            "image/png": "[encoded data removed]",
            "text/plain": [
              "<Figure size 432x288 with 1 Axes>"
            ]
          },
          "metadata": {
            "needs_background": "light"
          }
        }
      ]
    },
    {
      "cell_type": "markdown",
      "metadata": {
        "id": "FHPGd1tDHrtV"
      },
      "source": [
        "**Task 1: Find the total number of new cases added in the entire US in the  month of March 2020.**"
      ]
    },
    {
      "cell_type": "code",
      "metadata": {
        "id": "RaaFOC-xHy7e",
        "colab": {
          "base_uri": "https://localhost:8080/"
        },
        "outputId": "3693f725-fde8-4654-b591-c7096c0ed274"
      },
      "source": [
        "#Importing libraries\n",
        "from pyspark.sql.functions import to_timestamp,date_format\n",
        "from pyspark.sql.functions import *\n",
        "        \n",
        "#converting date from string format to date format\n",
        "data1 = data.withColumn('date', to_date(data.date, 'yyyy-MM-dd')) \n",
        "        \n",
        "#Creating separate columns for year and month\n",
        "data2= data1.withColumn('year',year(data1.date))\n",
        "data2 = data2.withColumn('month',month(data1.date))\n",
        "data2.show(5)\n",
        "data2.printSchema()\n",
        "        \n",
        "#Displaying Total no of cases in the month of March 2020\n",
        "data3 = data2.filter(data2.year == '2020')\n",
        "data2_cases = data3.filter(data3.month == '3')\n",
        "data2_cases.show(10)\n",
        "data2_cases.agg({'cases': 'sum'}).show()"
      ],
      "execution_count": 9,
      "outputs": [
        {
          "output_type": "stream",
          "name": "stdout",
          "text": [
            "+----------+---------+----------+-----+-----+------+----+-----+\n",
            "|      date|   county|     state| fips|cases|deaths|year|month|\n",
            "+----------+---------+----------+-----+-----+------+----+-----+\n",
            "|2020-01-21|Snohomish|Washington|53061|    1|     0|2020|    1|\n",
            "|2020-01-22|Snohomish|Washington|53061|    1|     0|2020|    1|\n",
            "|2020-01-23|Snohomish|Washington|53061|    1|     0|2020|    1|\n",
            "|2020-01-24|     Cook|  Illinois|17031|    1|     0|2020|    1|\n",
            "|2020-01-24|Snohomish|Washington|53061|    1|     0|2020|    1|\n",
            "+----------+---------+----------+-----+-----+------+----+-----+\n",
            "only showing top 5 rows\n",
            "\n",
            "root\n",
            " |-- date: date (nullable = true)\n",
            " |-- county: string (nullable = true)\n",
            " |-- state: string (nullable = true)\n",
            " |-- fips: integer (nullable = true)\n",
            " |-- cases: integer (nullable = true)\n",
            " |-- deaths: integer (nullable = true)\n",
            " |-- year: integer (nullable = true)\n",
            " |-- month: integer (nullable = true)\n",
            "\n",
            "+----------+-------------+----------+----+-----+------+----+-----+\n",
            "|      date|       county|     state|fips|cases|deaths|year|month|\n",
            "+----------+-------------+----------+----+-----+------+----+-----+\n",
            "|2020-03-01|     Maricopa|   Arizona|4013|    1|     0|2020|    3|\n",
            "|2020-03-01|      Alameda|California|6001|    1|     0|2020|    3|\n",
            "|2020-03-01|     Humboldt|California|6023|    1|     0|2020|    3|\n",
            "|2020-03-01|  Los Angeles|California|6037|    1|     0|2020|    3|\n",
            "|2020-03-01|        Marin|California|6041|    1|     0|2020|    3|\n",
            "|2020-03-01|         Napa|California|6055|    1|     0|2020|    3|\n",
            "|2020-03-01|       Orange|California|6059|    1|     0|2020|    3|\n",
            "|2020-03-01|   Sacramento|California|6067|    3|     0|2020|    3|\n",
            "|2020-03-01|    San Diego|California|6073|    1|     0|2020|    3|\n",
            "|2020-03-01|San Francisco|California|6075|    3|     0|2020|    3|\n",
            "+----------+-------------+----------+----+-----+------+----+-----+\n",
            "only showing top 10 rows\n",
            "\n",
            "+----------+\n",
            "|sum(cases)|\n",
            "+----------+\n",
            "|   1095533|\n",
            "+----------+\n",
            "\n"
          ]
        }
      ]
    },
    {
      "cell_type": "markdown",
      "metadata": {
        "id": "JCD7_J82HzqE"
      },
      "source": [
        "**Task 2: Calculate the total new cases added in three consecutive months of June, July, and August of 2020 in Jackson county, Missouri (fips code 29095).**"
      ]
    },
    {
      "cell_type": "code",
      "metadata": {
        "id": "WGFyaUb0IOb4",
        "colab": {
          "base_uri": "https://localhost:8080/"
        },
        "outputId": "677d8b3c-3ba6-447a-b708-2564e01f2309"
      },
      "source": [
        "\n",
        "data3 = data2.filter(data2.fips == '29095')\n",
        "data2_yr = data3.filter(data3.year == '2020')\n",
        "data2_mo = data2_yr[data2_yr['month'].between(6, 8)]\n",
        "data2_mo.show()\n",
        "data2_mo.agg({'cases': 'sum'}).show()\n"
      ],
      "execution_count": 22,
      "outputs": [
        {
          "output_type": "stream",
          "name": "stdout",
          "text": [
            "+----------+-------+--------+-----+-----+------+----+-----+\n",
            "|      date| county|   state| fips|cases|deaths|year|month|\n",
            "+----------+-------+--------+-----+-----+------+----+-----+\n",
            "|2020-06-01|Jackson|Missouri|29095|  613|    19|2020|    6|\n",
            "|2020-06-02|Jackson|Missouri|29095|  637|    22|2020|    6|\n",
            "|2020-06-03|Jackson|Missouri|29095|  656|    22|2020|    6|\n",
            "|2020-06-04|Jackson|Missouri|29095|  676|    22|2020|    6|\n",
            "|2020-06-05|Jackson|Missouri|29095|  686|    22|2020|    6|\n",
            "|2020-06-06|Jackson|Missouri|29095|  696|    22|2020|    6|\n",
            "|2020-06-07|Jackson|Missouri|29095|  702|    22|2020|    6|\n",
            "|2020-06-08|Jackson|Missouri|29095|  716|    22|2020|    6|\n",
            "|2020-06-09|Jackson|Missouri|29095|  727|    22|2020|    6|\n",
            "|2020-06-10|Jackson|Missouri|29095|  752|    22|2020|    6|\n",
            "|2020-06-11|Jackson|Missouri|29095|  782|    22|2020|    6|\n",
            "|2020-06-12|Jackson|Missouri|29095|  791|    22|2020|    6|\n",
            "|2020-06-13|Jackson|Missouri|29095|  819|    22|2020|    6|\n",
            "|2020-06-14|Jackson|Missouri|29095|  819|    22|2020|    6|\n",
            "|2020-06-15|Jackson|Missouri|29095|  865|    22|2020|    6|\n",
            "|2020-06-16|Jackson|Missouri|29095|  889|    26|2020|    6|\n",
            "|2020-06-17|Jackson|Missouri|29095|  916|    26|2020|    6|\n",
            "|2020-06-18|Jackson|Missouri|29095|  933|    27|2020|    6|\n",
            "|2020-06-19|Jackson|Missouri|29095|  976|    27|2020|    6|\n",
            "|2020-06-20|Jackson|Missouri|29095| 1016|    27|2020|    6|\n",
            "+----------+-------+--------+-----+-----+------+----+-----+\n",
            "only showing top 20 rows\n",
            "\n",
            "+----------+\n",
            "|sum(cases)|\n",
            "+----------+\n",
            "|    230127|\n",
            "+----------+\n",
            "\n"
          ]
        }
      ]
    },
    {
      "cell_type": "markdown",
      "metadata": {
        "id": "JtcLCf3HIPnx"
      },
      "source": [
        "**Task 3: Find the daily new cases per month per 1000 population in Missouri state (MO) since the beginning of the pandemic (assume MO's population is 6,154,913). [Plot the data]**"
      ]
    },
    {
      "cell_type": "code",
      "metadata": {
        "id": "U7qQr0QhIVI-"
      },
      "source": [
        ""
      ],
      "execution_count": null,
      "outputs": []
    },
    {
      "cell_type": "markdown",
      "metadata": {
        "id": "neUh4Ez3IV8o"
      },
      "source": [
        "**Task 4:  On which date all 50 US states have at least 100 cases? At least one death?**"
      ]
    },
    {
      "cell_type": "code",
      "metadata": {
        "id": "YedPgvtyIaY0",
        "colab": {
          "base_uri": "https://localhost:8080/"
        },
        "outputId": "659d8f9d-36dd-4864-99f4-4aacedb1aa33"
      },
      "source": [
        "data2_case = data2.filter(data2.cases >= 100)\n",
        "data2_case1 = data2_case.filter(data2.deaths >=1)\n",
        "data2_case1.show(20)"
      ],
      "execution_count": 29,
      "outputs": [
        {
          "output_type": "stream",
          "name": "stdout",
          "text": [
            "+----------+-------------+----------+-----+-----+------+----+-----+\n",
            "|      date|       county|     state| fips|cases|deaths|year|month|\n",
            "+----------+-------------+----------+-----+-----+------+----+-----+\n",
            "|2020-03-09|         King|Washington|53033|  117|    21|2020|    3|\n",
            "|2020-03-10|         King|Washington|53033|  191|    23|2020|    3|\n",
            "|2020-03-11|         King|Washington|53033|  235|    27|2020|    3|\n",
            "|2020-03-12|         King|Washington|53033|  271|    28|2020|    3|\n",
            "|2020-03-12|    Snohomish|Washington|53061|  107|     3|2020|    3|\n",
            "|2020-03-13|         King|Washington|53033|  329|    33|2020|    3|\n",
            "|2020-03-13|    Snohomish|Washington|53061|  132|     3|2020|    3|\n",
            "|2020-03-14|New York City|  New York| null|  269|     1|2020|    3|\n",
            "|2020-03-14|         King|Washington|53033|  389|    36|2020|    3|\n",
            "|2020-03-14|    Snohomish|Washington|53061|  154|     3|2020|    3|\n",
            "|2020-03-15|  Santa Clara|California| 6085|  114|     2|2020|    3|\n",
            "|2020-03-15|New York City|  New York| null|  330|     5|2020|    3|\n",
            "|2020-03-15|         King|Washington|53033|  421|    38|2020|    3|\n",
            "|2020-03-15|    Snohomish|Washington|53061|  175|     3|2020|    3|\n",
            "|2020-03-16|  Santa Clara|California| 6085|  138|     4|2020|    3|\n",
            "|2020-03-16|New York City|  New York| null|  464|     7|2020|    3|\n",
            "|2020-03-16|         King|Washington|53033|  489|    44|2020|    3|\n",
            "|2020-03-16|    Snohomish|Washington|53061|  199|     3|2020|    3|\n",
            "|2020-03-17|  Los Angeles|California| 6037|  144|     1|2020|    3|\n",
            "|2020-03-17|  Santa Clara|California| 6085|  155|     5|2020|    3|\n",
            "+----------+-------------+----------+-----+-----+------+----+-----+\n",
            "only showing top 20 rows\n",
            "\n"
          ]
        }
      ]
    },
    {
      "cell_type": "markdown",
      "metadata": {
        "id": "b9i7LuBxIa2C"
      },
      "source": [
        "**Task 5: Which single day in the year 2020 had the largest number of deaths in the entire US (if there are multiple such dates, choose the earliest one)?**"
      ]
    },
    {
      "cell_type": "code",
      "metadata": {
        "id": "kY8peDkmIgCd",
        "colab": {
          "base_uri": "https://localhost:8080/"
        },
        "outputId": "84410ef2-40fc-40c9-ed9e-d11aa948cf85"
      },
      "source": [
        "data3 = data2.filter(data2.year == '2020')\n",
        "data3.sort(desc('deaths')).show(1)"
      ],
      "execution_count": 27,
      "outputs": [
        {
          "output_type": "stream",
          "name": "stdout",
          "text": [
            "+----------+-------------+--------+----+------+------+----+-----+\n",
            "|      date|       county|   state|fips| cases|deaths|year|month|\n",
            "+----------+-------------+--------+----+------+------+----+-----+\n",
            "|2020-12-31|New York City|New York|null|430863| 25144|2020|   12|\n",
            "+----------+-------------+--------+----+------+------+----+-----+\n",
            "only showing top 1 row\n",
            "\n"
          ]
        }
      ]
    }
  ]
}